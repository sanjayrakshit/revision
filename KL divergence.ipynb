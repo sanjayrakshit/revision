{
 "cells": [
  {
   "cell_type": "code",
   "execution_count": 19,
   "id": "1a45b79f-6dfc-4d3e-9467-a6287ebda421",
   "metadata": {},
   "outputs": [],
   "source": [
    "import numpy as np\n",
    "import random\n",
    "from scipy.stats import entropy\n",
    "from collections import Counter"
   ]
  },
  {
   "cell_type": "code",
   "execution_count": 12,
   "id": "7a46fd0c-5486-41e2-8e7b-cb56e6a15fc0",
   "metadata": {
    "scrolled": true
   },
   "outputs": [
    {
     "data": {
      "text/plain": [
       "\u001b[0;31mSignature:\u001b[0m\n",
       "\u001b[0mentropy\u001b[0m\u001b[0;34m(\u001b[0m\u001b[0;34m\u001b[0m\n",
       "\u001b[0;34m\u001b[0m    \u001b[0mpk\u001b[0m\u001b[0;34m:\u001b[0m \u001b[0;34m'np.typing.ArrayLike'\u001b[0m\u001b[0;34m,\u001b[0m\u001b[0;34m\u001b[0m\n",
       "\u001b[0;34m\u001b[0m    \u001b[0mqk\u001b[0m\u001b[0;34m:\u001b[0m \u001b[0;34m'np.typing.ArrayLike | None'\u001b[0m \u001b[0;34m=\u001b[0m \u001b[0;32mNone\u001b[0m\u001b[0;34m,\u001b[0m\u001b[0;34m\u001b[0m\n",
       "\u001b[0;34m\u001b[0m    \u001b[0mbase\u001b[0m\u001b[0;34m:\u001b[0m \u001b[0;34m'float | None'\u001b[0m \u001b[0;34m=\u001b[0m \u001b[0;32mNone\u001b[0m\u001b[0;34m,\u001b[0m\u001b[0;34m\u001b[0m\n",
       "\u001b[0;34m\u001b[0m    \u001b[0maxis\u001b[0m\u001b[0;34m:\u001b[0m \u001b[0;34m'int'\u001b[0m \u001b[0;34m=\u001b[0m \u001b[0;36m0\u001b[0m\u001b[0;34m,\u001b[0m\u001b[0;34m\u001b[0m\n",
       "\u001b[0;34m\u001b[0m    \u001b[0;34m*\u001b[0m\u001b[0;34m,\u001b[0m\u001b[0;34m\u001b[0m\n",
       "\u001b[0;34m\u001b[0m    \u001b[0mnan_policy\u001b[0m\u001b[0;34m=\u001b[0m\u001b[0;34m'propagate'\u001b[0m\u001b[0;34m,\u001b[0m\u001b[0;34m\u001b[0m\n",
       "\u001b[0;34m\u001b[0m    \u001b[0mkeepdims\u001b[0m\u001b[0;34m=\u001b[0m\u001b[0;32mFalse\u001b[0m\u001b[0;34m,\u001b[0m\u001b[0;34m\u001b[0m\n",
       "\u001b[0;34m\u001b[0m\u001b[0;34m)\u001b[0m \u001b[0;34m->\u001b[0m \u001b[0;34m'np.number | np.ndarray'\u001b[0m\u001b[0;34m\u001b[0m\u001b[0;34m\u001b[0m\u001b[0m\n",
       "\u001b[0;31mDocstring:\u001b[0m\n",
       "Calculate the Shannon entropy/relative entropy of given distribution(s).\n",
       "\n",
       "If only probabilities `pk` are given, the Shannon entropy is calculated as\n",
       "``H = -sum(pk * log(pk))``.\n",
       "\n",
       "If `qk` is not None, then compute the relative entropy\n",
       "``D = sum(pk * log(pk / qk))``. This quantity is also known\n",
       "as the Kullback-Leibler divergence.\n",
       "\n",
       "This routine will normalize `pk` and `qk` if they don't sum to 1.\n",
       "\n",
       "Parameters\n",
       "----------\n",
       "pk : array_like\n",
       "    Defines the (discrete) distribution. Along each axis-slice of ``pk``,\n",
       "    element ``i`` is the  (possibly unnormalized) probability of event\n",
       "    ``i``.\n",
       "qk : array_like, optional\n",
       "    Sequence against which the relative entropy is computed. Should be in\n",
       "    the same format as `pk`.\n",
       "base : float, optional\n",
       "    The logarithmic base to use, defaults to ``e`` (natural logarithm).\n",
       "axis : int or None, default: 0\n",
       "    If an int, the axis of the input along which to compute the statistic.\n",
       "    The statistic of each axis-slice (e.g. row) of the input will appear in a\n",
       "    corresponding element of the output.\n",
       "    If ``None``, the input will be raveled before computing the statistic.\n",
       "nan_policy : {'propagate', 'omit', 'raise'}\n",
       "    Defines how to handle input NaNs.\n",
       "    \n",
       "    - ``propagate``: if a NaN is present in the axis slice (e.g. row) along\n",
       "      which the  statistic is computed, the corresponding entry of the output\n",
       "      will be NaN.\n",
       "    - ``omit``: NaNs will be omitted when performing the calculation.\n",
       "      If insufficient data remains in the axis slice along which the\n",
       "      statistic is computed, the corresponding entry of the output will be\n",
       "      NaN.\n",
       "    - ``raise``: if a NaN is present, a ``ValueError`` will be raised.\n",
       "keepdims : bool, default: False\n",
       "    If this is set to True, the axes which are reduced are left\n",
       "    in the result as dimensions with size one. With this option,\n",
       "    the result will broadcast correctly against the input array.\n",
       "\n",
       "Returns\n",
       "-------\n",
       "S : {float, array_like}\n",
       "    The calculated entropy.\n",
       "\n",
       "Notes\n",
       "-----\n",
       "Informally, the Shannon entropy quantifies the expected uncertainty\n",
       "inherent in the possible outcomes of a discrete random variable.\n",
       "For example,\n",
       "if messages consisting of sequences of symbols from a set are to be\n",
       "encoded and transmitted over a noiseless channel, then the Shannon entropy\n",
       "``H(pk)`` gives a tight lower bound for the average number of units of\n",
       "information needed per symbol if the symbols occur with frequencies\n",
       "governed by the discrete distribution `pk` [1]_. The choice of base\n",
       "determines the choice of units; e.g., ``e`` for nats, ``2`` for bits, etc.\n",
       "\n",
       "The relative entropy, ``D(pk|qk)``, quantifies the increase in the average\n",
       "number of units of information needed per symbol if the encoding is\n",
       "optimized for the probability distribution `qk` instead of the true\n",
       "distribution `pk`. Informally, the relative entropy quantifies the expected\n",
       "excess in surprise experienced if one believes the true distribution is\n",
       "`qk` when it is actually `pk`.\n",
       "\n",
       "A related quantity, the cross entropy ``CE(pk, qk)``, satisfies the\n",
       "equation ``CE(pk, qk) = H(pk) + D(pk|qk)`` and can also be calculated with\n",
       "the formula ``CE = -sum(pk * log(qk))``. It gives the average\n",
       "number of units of information needed per symbol if an encoding is\n",
       "optimized for the probability distribution `qk` when the true distribution\n",
       "is `pk`. It is not computed directly by `entropy`, but it can be computed\n",
       "using two calls to the function (see Examples).\n",
       "\n",
       "See [2]_ for more information.\n",
       "\n",
       "Beginning in SciPy 1.9, ``np.matrix`` inputs (not recommended for new\n",
       "code) are converted to ``np.ndarray`` before the calculation is performed. In\n",
       "this case, the output will be a scalar or ``np.ndarray`` of appropriate shape\n",
       "rather than a 2D ``np.matrix``. Similarly, while masked elements of masked\n",
       "arrays are ignored, the output will be a scalar or ``np.ndarray`` rather than a\n",
       "masked array with ``mask=False``.\n",
       "\n",
       "References\n",
       "----------\n",
       ".. [1] Shannon, C.E. (1948), A Mathematical Theory of Communication.\n",
       "       Bell System Technical Journal, 27: 379-423.\n",
       "       https://doi.org/10.1002/j.1538-7305.1948.tb01338.x\n",
       ".. [2] Thomas M. Cover and Joy A. Thomas. 2006. Elements of Information\n",
       "       Theory (Wiley Series in Telecommunications and Signal Processing).\n",
       "       Wiley-Interscience, USA.\n",
       "\n",
       "Examples\n",
       "--------\n",
       "The outcome of a fair coin is the most uncertain:\n",
       "\n",
       ">>> import numpy as np\n",
       ">>> from scipy.stats import entropy\n",
       ">>> base = 2  # work in units of bits\n",
       ">>> pk = np.array([1/2, 1/2])  # fair coin\n",
       ">>> H = entropy(pk, base=base)\n",
       ">>> H\n",
       "1.0\n",
       ">>> H == -np.sum(pk * np.log(pk)) / np.log(base)\n",
       "True\n",
       "\n",
       "The outcome of a biased coin is less uncertain:\n",
       "\n",
       ">>> qk = np.array([9/10, 1/10])  # biased coin\n",
       ">>> entropy(qk, base=base)\n",
       "0.46899559358928117\n",
       "\n",
       "The relative entropy between the fair coin and biased coin is calculated\n",
       "as:\n",
       "\n",
       ">>> D = entropy(pk, qk, base=base)\n",
       ">>> D\n",
       "0.7369655941662062\n",
       ">>> D == np.sum(pk * np.log(pk/qk)) / np.log(base)\n",
       "True\n",
       "\n",
       "The cross entropy can be calculated as the sum of the entropy and\n",
       "relative entropy`:\n",
       "\n",
       ">>> CE = entropy(pk, base=base) + entropy(pk, qk, base=base)\n",
       ">>> CE\n",
       "1.736965594166206\n",
       ">>> CE == -np.sum(pk * np.log(qk)) / np.log(base)\n",
       "True\n",
       "\u001b[0;31mFile:\u001b[0m      ~/miniconda3/envs/sanjay/lib/python3.10/site-packages/scipy/stats/_entropy.py\n",
       "\u001b[0;31mType:\u001b[0m      function"
      ]
     },
     "metadata": {},
     "output_type": "display_data"
    }
   ],
   "source": [
    "entropy?"
   ]
  },
  {
   "cell_type": "code",
   "execution_count": 26,
   "id": "4a66f583-20f2-4551-a491-eabc5881f636",
   "metadata": {},
   "outputs": [],
   "source": [
    "lo, hi = ord('a'), ord('z')\n",
    "\n",
    "old_feature = [chr(random.randint(lo, hi)) for i in range(100)]\n",
    "new_feature = [chr(random.randint(lo, hi)) for i in range(100)]\n",
    "\n",
    "# Explanation : This is once of my feature let's say. oold_feature is prev and nenew_feature is cur"
   ]
  },
  {
   "cell_type": "code",
   "execution_count": 27,
   "id": "5413a757-b06b-4f10-90c7-abf2c9605626",
   "metadata": {},
   "outputs": [],
   "source": [
    "old_feature, new_feature = Counter(old_feature), Counter(new_feature) \n",
    "\n",
    "# Bucketize the feature"
   ]
  },
  {
   "cell_type": "code",
   "execution_count": 28,
   "id": "e68d3fc9-9881-4b16-a4d2-a3f212c0f2da",
   "metadata": {},
   "outputs": [],
   "source": [
    "def normalize(cache):\n",
    "    for k, v in cache.items():\n",
    "        cache[k] = v/100\n",
    "\n",
    "normalize(old_feature)\n",
    "normalize(new_feature)\n",
    "\n",
    "# Calculate probability"
   ]
  },
  {
   "cell_type": "code",
   "execution_count": 31,
   "id": "f3f5e3d7-62a5-4707-a6f8-bf159710c840",
   "metadata": {},
   "outputs": [],
   "source": [
    "old_disb = [0] * 26\n",
    "new_disb = [0] * 26\n",
    "\n",
    "\n",
    "def update_disb(cache, disb_arr):\n",
    "    for key in cache:\n",
    "        i = ord(key) - 97\n",
    "        disb_arr[i] = cache[key]\n",
    "\n",
    "\n",
    "update_disb(old_feature, old_disb)\n",
    "update_disb(new_feature, new_disb)\n",
    "\n",
    "# Jot down the probability of each category in the feature. Then we have to compute the kl divergence of each category and add them to get the total kl divergence of that single feature"
   ]
  },
  {
   "cell_type": "code",
   "execution_count": 35,
   "id": "01ce47e6-c96a-41e8-80de-4b51b1f61818",
   "metadata": {},
   "outputs": [
    {
     "name": "stdout",
     "output_type": "stream",
     "text": [
      "0.02 0.04 0.03 0.04 0.03 0.03 0.08 0.03 0 0 0.04 0.06 0.03 0.01 0.02 0.03 0.01 0.04 0.05 0.03 0.02 0.09 0.1 0.08 0.06 0.03\n",
      "0.02 0.03 0.02 0.04 0.06 0.06 0.04 0.04 0.06 0.04 0.02 0.04 0.07 0.01 0.03 0.03 0.06 0.02 0.05 0.01 0.04 0.04 0.03 0.07 0.04 0.03\n"
     ]
    }
   ],
   "source": [
    "print(*old_disb, sep=' ')\n",
    "print(*new_disb, sep=' ')"
   ]
  },
  {
   "cell_type": "code",
   "execution_count": 39,
   "id": "6c46b888-44bf-4bce-97e9-e80cd9e762bc",
   "metadata": {},
   "outputs": [
    {
     "data": {
      "text/plain": [
       "0.3047244086815465"
      ]
     },
     "execution_count": 39,
     "metadata": {},
     "output_type": "execute_result"
    }
   ],
   "source": [
    "# Using library\n",
    "from scipy.stats import entropy\n",
    "\n",
    "entropy(old_disb, new_disb) "
   ]
  },
  {
   "cell_type": "code",
   "execution_count": 44,
   "id": "9d5ca1a8-f11a-4284-97b9-c946328422cd",
   "metadata": {},
   "outputs": [
    {
     "data": {
      "text/plain": [
       "0.30162358635063474"
      ]
     },
     "execution_count": 44,
     "metadata": {},
     "output_type": "execute_result"
    }
   ],
   "source": [
    "# Using code\n",
    "\n",
    "import math\n",
    "\n",
    "kl_divg = 0\n",
    "for p, q in zip(old_disb, new_disb):\n",
    "    if p > 0:\n",
    "        p_q = p/(q+1e-4)\n",
    "        kl_divg += p * math.log(p_q)\n",
    "\n",
    "kl_divg"
   ]
  },
  {
   "cell_type": "code",
   "execution_count": null,
   "id": "2c167cda-2d8f-4fdd-af0e-40cddf1032b0",
   "metadata": {},
   "outputs": [],
   "source": []
  },
  {
   "cell_type": "code",
   "execution_count": null,
   "id": "a74cb177-237c-4a58-a9a1-849b45f273ce",
   "metadata": {},
   "outputs": [],
   "source": []
  }
 ],
 "metadata": {
  "kernelspec": {
   "display_name": "Python 3 (ipykernel)",
   "language": "python",
   "name": "python3"
  },
  "language_info": {
   "codemirror_mode": {
    "name": "ipython",
    "version": 3
   },
   "file_extension": ".py",
   "mimetype": "text/x-python",
   "name": "python",
   "nbconvert_exporter": "python",
   "pygments_lexer": "ipython3",
   "version": "3.10.12"
  }
 },
 "nbformat": 4,
 "nbformat_minor": 5
}
