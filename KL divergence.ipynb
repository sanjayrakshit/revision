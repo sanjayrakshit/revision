{
 "cells": [
  {
   "cell_type": "code",
   "execution_count": 19,
   "id": "1a45b79f-6dfc-4d3e-9467-a6287ebda421",
   "metadata": {},
   "outputs": [],
   "source": [
    "import numpy as np\n",
    "import random\n",
    "from scipy.stats import entropy\n",
    "from collections import Counter"
   ]
  },
  {
   "cell_type": "code",
   "execution_count": null,
   "id": "7a46fd0c-5486-41e2-8e7b-cb56e6a15fc0",
   "metadata": {
    "scrolled": true
   },
   "outputs": [],
   "source": []
  },
  {
   "cell_type": "code",
   "execution_count": 26,
   "id": "4a66f583-20f2-4551-a491-eabc5881f636",
   "metadata": {},
   "outputs": [],
   "source": [
    "lo, hi = ord('a'), ord('z')\n",
    "\n",
    "old_feature = [chr(random.randint(lo, hi)) for i in range(100)]\n",
    "new_feature = [chr(random.randint(lo, hi)) for i in range(100)]\n",
    "\n",
    "# Explanation : This is once of my feature let's say. oold_feature is prev and nenew_feature is cur"
   ]
  },
  {
   "cell_type": "code",
   "execution_count": 27,
   "id": "5413a757-b06b-4f10-90c7-abf2c9605626",
   "metadata": {},
   "outputs": [],
   "source": [
    "old_feature, new_feature = Counter(old_feature), Counter(new_feature) \n",
    "\n",
    "# Bucketize the feature"
   ]
  },
  {
   "cell_type": "code",
   "execution_count": 28,
   "id": "e68d3fc9-9881-4b16-a4d2-a3f212c0f2da",
   "metadata": {},
   "outputs": [],
   "source": [
    "def normalize(cache):\n",
    "    for k, v in cache.items():\n",
    "        cache[k] = v/100\n",
    "\n",
    "normalize(old_feature)\n",
    "normalize(new_feature)\n",
    "\n",
    "# Calculate probability"
   ]
  },
  {
   "cell_type": "code",
   "execution_count": 31,
   "id": "f3f5e3d7-62a5-4707-a6f8-bf159710c840",
   "metadata": {},
   "outputs": [],
   "source": [
    "old_disb = [0] * 26\n",
    "new_disb = [0] * 26\n",
    "\n",
    "\n",
    "def update_disb(cache, disb_arr):\n",
    "    for key in cache:\n",
    "        i = ord(key) - 97\n",
    "        disb_arr[i] = cache[key]\n",
    "\n",
    "\n",
    "update_disb(old_feature, old_disb)\n",
    "update_disb(new_feature, new_disb)\n",
    "\n",
    "# Jot down the probability of each category in the feature. Then we have to compute the kl divergence of each category and add them to get the total kl divergence of that single feature"
   ]
  },
  {
   "cell_type": "code",
   "execution_count": 35,
   "id": "01ce47e6-c96a-41e8-80de-4b51b1f61818",
   "metadata": {},
   "outputs": [
    {
     "name": "stdout",
     "output_type": "stream",
     "text": [
      "0.02 0.04 0.03 0.04 0.03 0.03 0.08 0.03 0 0 0.04 0.06 0.03 0.01 0.02 0.03 0.01 0.04 0.05 0.03 0.02 0.09 0.1 0.08 0.06 0.03\n",
      "0.02 0.03 0.02 0.04 0.06 0.06 0.04 0.04 0.06 0.04 0.02 0.04 0.07 0.01 0.03 0.03 0.06 0.02 0.05 0.01 0.04 0.04 0.03 0.07 0.04 0.03\n"
     ]
    }
   ],
   "source": [
    "print(*old_disb, sep=' ')\n",
    "print(*new_disb, sep=' ')"
   ]
  },
  {
   "cell_type": "code",
   "execution_count": 39,
   "id": "6c46b888-44bf-4bce-97e9-e80cd9e762bc",
   "metadata": {},
   "outputs": [
    {
     "data": {
      "text/plain": [
       "0.3047244086815465"
      ]
     },
     "execution_count": 39,
     "metadata": {},
     "output_type": "execute_result"
    }
   ],
   "source": [
    "# Using library\n",
    "from scipy.stats import entropy\n",
    "\n",
    "entropy(old_disb, new_disb) "
   ]
  },
  {
   "cell_type": "code",
   "execution_count": 44,
   "id": "9d5ca1a8-f11a-4284-97b9-c946328422cd",
   "metadata": {},
   "outputs": [
    {
     "data": {
      "text/plain": [
       "0.30162358635063474"
      ]
     },
     "execution_count": 44,
     "metadata": {},
     "output_type": "execute_result"
    }
   ],
   "source": [
    "# Using code\n",
    "\n",
    "import math\n",
    "\n",
    "kl_divg = 0\n",
    "for p, q in zip(old_disb, new_disb):\n",
    "    if p > 0:\n",
    "        p_q = p/(q+1e-4)\n",
    "        kl_divg += p * math.log(p_q)\n",
    "\n",
    "kl_divg"
   ]
  },
  {
   "cell_type": "code",
   "execution_count": null,
   "id": "2c167cda-2d8f-4fdd-af0e-40cddf1032b0",
   "metadata": {},
   "outputs": [],
   "source": [
    "# Conclusion:\n",
    "# here the computed kl-divergence and kl-divergence from library is almost same, so our calculation is correct"
   ]
  },
  {
   "cell_type": "code",
   "execution_count": null,
   "id": "a74cb177-237c-4a58-a9a1-849b45f273ce",
   "metadata": {},
   "outputs": [],
   "source": []
  }
 ],
 "metadata": {
  "kernelspec": {
   "display_name": "Python 3 (ipykernel)",
   "language": "python",
   "name": "python3"
  },
  "language_info": {
   "codemirror_mode": {
    "name": "ipython",
    "version": 3
   },
   "file_extension": ".py",
   "mimetype": "text/x-python",
   "name": "python",
   "nbconvert_exporter": "python",
   "pygments_lexer": "ipython3",
   "version": "3.10.12"
  }
 },
 "nbformat": 4,
 "nbformat_minor": 5
}
